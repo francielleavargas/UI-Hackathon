{
  "nbformat": 4,
  "nbformat_minor": 0,
  "metadata": {
    "colab": {
      "name": "Group4-Hackathon.ipynb",
      "provenance": [],
      "toc_visible": true
    },
    "kernelspec": {
      "name": "python3",
      "display_name": "Python 3"
    }
  },
  "cells": [
    {
      "cell_type": "code",
      "metadata": {
        "id": "kb0GMdiDV95I",
        "colab_type": "code",
        "colab": {
          "base_uri": "https://localhost:8080/",
          "height": 345
        },
        "outputId": "8a8f2b8e-b699-4e52-c3a8-ad20541e247d"
      },
      "source": [
        "import pandas as pd\n",
        "import random\n",
        "from sklearn import model_selection\n",
        "from sklearn.metrics import classification_report\n",
        "from sklearn.metrics import confusion_matrix\n",
        "from sklearn.metrics import accuracy_score\n",
        "from sklearn.linear_model import LogisticRegression\n",
        "from sklearn.tree import DecisionTreeClassifier\n",
        "from sklearn.neighbors import KNeighborsClassifier\n",
        "from sklearn.discriminant_analysis import LinearDiscriminantAnalysis\n",
        "from sklearn.naive_bayes import GaussianNB\n",
        "from sklearn.linear_model import Perceptron\n",
        "from sklearn.svm import SVC\n",
        "\n",
        "# Loading dataset\n",
        "#We extracted named-entity frequence for each twitter using the spacy library. We also extracted the sentiment classification.\n",
        "dataset = pd.read_csv('df_features.csv')\n",
        "\n",
        "#Show the dataset information \n",
        "dataset.info()\n",
        "dataset.isnull()\n",
        "print(dataset.shape)\n"
      ],
      "execution_count": 3,
      "outputs": [
        {
          "output_type": "stream",
          "text": [
            "<class 'pandas.core.frame.DataFrame'>\n",
            "RangeIndex: 872 entries, 0 to 871\n",
            "Data columns (total 10 columns):\n",
            " #   Column  Non-Null Count  Dtype \n",
            "---  ------  --------------  ----- \n",
            " 0   EVENT   872 non-null    int64 \n",
            " 1   FAC     872 non-null    int64 \n",
            " 2   GPE     872 non-null    int64 \n",
            " 3   LOC     872 non-null    int64 \n",
            " 4   NORP    872 non-null    int64 \n",
            " 5   ORG     872 non-null    int64 \n",
            " 6   PERSON  872 non-null    int64 \n",
            " 7   OTHER   872 non-null    int64 \n",
            " 8   SENT    872 non-null    int64 \n",
            " 9   CLASS   872 non-null    object\n",
            "dtypes: int64(9), object(1)\n",
            "memory usage: 68.2+ KB\n",
            "(872, 10)\n"
          ],
          "name": "stdout"
        }
      ]
    },
    {
      "cell_type": "code",
      "metadata": {
        "id": "_JKuFyuBXHeG",
        "colab_type": "code",
        "colab": {
          "base_uri": "https://localhost:8080/",
          "height": 126
        },
        "outputId": "99243e58-e39a-45fa-efe6-c914236c74da"
      },
      "source": [
        "print(dataset.head())\n"
      ],
      "execution_count": 4,
      "outputs": [
        {
          "output_type": "stream",
          "text": [
            "   EVENT  FAC  GPE  LOC  NORP  ORG  PERSON  OTHER  SENT CLASS\n",
            "0      0    0    0    0     1    1       1      0     3   NON\n",
            "1      0    0    0    0     0    0       0      0     3   NON\n",
            "2      0    0    1    0     2    0       0      0     3   NON\n",
            "3      0    0    0    0     3    0       0      2     3   NON\n",
            "4      0    0    0    0     2    0       0      0     3   NON\n"
          ],
          "name": "stdout"
        }
      ]
    },
    {
      "cell_type": "code",
      "metadata": {
        "id": "ZaGZhjBAXK6b",
        "colab_type": "code",
        "colab": {
          "base_uri": "https://localhost:8080/",
          "height": 217
        },
        "outputId": "d8ec909c-3d9b-48cd-be83-2252784ce522"
      },
      "source": [
        "print(dataset.describe())"
      ],
      "execution_count": 5,
      "outputs": [
        {
          "output_type": "stream",
          "text": [
            "            EVENT         FAC         GPE  ...      PERSON       OTHER        SENT\n",
            "count  872.000000  872.000000  872.000000  ...  872.000000  872.000000  872.000000\n",
            "mean     0.005734    0.012615    0.338303  ...    0.446101    0.491972    2.243119\n",
            "std      0.075549    0.139135    0.750966  ...    0.878018    0.947499    0.892923\n",
            "min      0.000000    0.000000    0.000000  ...    0.000000    0.000000    1.000000\n",
            "25%      0.000000    0.000000    0.000000  ...    0.000000    0.000000    1.000000\n",
            "50%      0.000000    0.000000    0.000000  ...    0.000000    0.000000    2.000000\n",
            "75%      0.000000    0.000000    0.000000  ...    1.000000    1.000000    3.000000\n",
            "max      1.000000    3.000000    6.000000  ...    7.000000    7.000000    5.000000\n",
            "\n",
            "[8 rows x 9 columns]\n"
          ],
          "name": "stdout"
        }
      ]
    },
    {
      "cell_type": "code",
      "metadata": {
        "id": "ytiaiHNLXUR5",
        "colab_type": "code",
        "colab": {
          "base_uri": "https://localhost:8080/",
          "height": 526
        },
        "outputId": "15699b64-ed8f-4d7b-c65b-c43173cb52a0"
      },
      "source": [
        "#Separating features and class\n",
        "X = dataset.iloc[:, :-1]\n",
        "Y = dataset.iloc[:,-1]\n",
        "print('---------------------------(features)-------------------------------')\n",
        "print(X)\n",
        "print('---------------------------(class)----------------------------------')\n",
        "print(Y)"
      ],
      "execution_count": 6,
      "outputs": [
        {
          "output_type": "stream",
          "text": [
            "---------------------------(features)-------------------------------\n",
            "     EVENT  FAC  GPE  LOC  NORP  ORG  PERSON  OTHER  SENT\n",
            "0        0    0    0    0     1    1       1      0     3\n",
            "1        0    0    0    0     0    0       0      0     3\n",
            "2        0    0    1    0     2    0       0      0     3\n",
            "3        0    0    0    0     3    0       0      2     3\n",
            "4        0    0    0    0     2    0       0      0     3\n",
            "..     ...  ...  ...  ...   ...  ...     ...    ...   ...\n",
            "867      0    0    3    0     0    0       0      0     1\n",
            "868      0    0    0    0     0    0       0      0     2\n",
            "869      0    0    0    0     0    0       0      0     2\n",
            "870      0    0    0    0     0    0       0      0     2\n",
            "871      1    0    3    0     1    1       0      3     1\n",
            "\n",
            "[872 rows x 9 columns]\n",
            "---------------------------(class)----------------------------------\n",
            "0       NON\n",
            "1       NON\n",
            "2       NON\n",
            "3       NON\n",
            "4       NON\n",
            "       ... \n",
            "867    ANTI\n",
            "868    ANTI\n",
            "869    ANTI\n",
            "870    ANTI\n",
            "871    ANTI\n",
            "Name: CLASS, Length: 872, dtype: object\n"
          ],
          "name": "stdout"
        }
      ]
    },
    {
      "cell_type": "code",
      "metadata": {
        "id": "SV_2klrkX_MA",
        "colab_type": "code",
        "colab": {
          "base_uri": "https://localhost:8080/",
          "height": 108
        },
        "outputId": "79f1f229-12b4-40a9-8b66-ec6e4239500f"
      },
      "source": [
        "#Separating test and training data\n",
        "validation_size = 0.10\n",
        "seed = 7\n",
        "X_train, X_validation, Y_train, Y_validation = model_selection.train_test_split(X, Y, test_size=validation_size, random_state=seed)\n",
        "scoring = 'accuracy'\n",
        "\n",
        "\n",
        "models = []\n",
        "#models.append(('LR', LogisticRegression()))\n",
        "models.append(('LDA', LinearDiscriminantAnalysis()))\n",
        "models.append(('KNN', KNeighborsClassifier()))\n",
        "models.append(('CART', DecisionTreeClassifier()))\n",
        "models.append(('NB', GaussianNB()))\n",
        "models.append(('SVM', SVC()))\n",
        "\n",
        "#Cross-validation\n",
        "results = []\n",
        "names = []\n",
        "for name, model in models:\n",
        "\tkfold = model_selection.KFold(n_splits=10, random_state=None)\n",
        "\tcv_results = model_selection.cross_val_score(model, X_train, Y_train, cv=kfold, scoring=scoring)\n",
        "\tresults.append(cv_results)\n",
        "\tnames.append(name)\n",
        "\tmsg = \"%s: %f (%f)\" % (name, cv_results.mean(), cv_results.std())\n",
        "\tprint(msg)"
      ],
      "execution_count": 8,
      "outputs": [
        {
          "output_type": "stream",
          "text": [
            "LDA: 0.975738 (0.021733)\n",
            "KNN: 0.973207 (0.019325)\n",
            "CART: 0.974489 (0.023518)\n",
            "NB: 0.942486 (0.072826)\n",
            "SVM: 0.978302 (0.016220)\n"
          ],
          "name": "stdout"
        }
      ]
    },
    {
      "cell_type": "code",
      "metadata": {
        "id": "OV9iFIAYZmaf",
        "colab_type": "code",
        "colab": {
          "base_uri": "https://localhost:8080/",
          "height": 199
        },
        "outputId": "f700831f-bee2-4ea4-88b4-c5f640151e41"
      },
      "source": [
        "#SVM classifier\n",
        "SVMclassifier = SVC()\n",
        "SVMclassifier.fit(X_train, Y_train)\n",
        "predictions = SVMclassifier.predict(X_validation)\n",
        "\n",
        "#Scores\n",
        "print(\"Score do classificador: %.2f\" % accuracy_score(Y_validation, predictions))\n",
        "print(classification_report(Y_validation, predictions))"
      ],
      "execution_count": 13,
      "outputs": [
        {
          "output_type": "stream",
          "text": [
            "Score do classificador: 0.99\n",
            "              precision    recall  f1-score   support\n",
            "\n",
            "        ANTI       0.98      1.00      0.99        44\n",
            "         NON       1.00      0.98      0.99        44\n",
            "\n",
            "    accuracy                           0.99        88\n",
            "   macro avg       0.99      0.99      0.99        88\n",
            "weighted avg       0.99      0.99      0.99        88\n",
            "\n"
          ],
          "name": "stdout"
        }
      ]
    },
    {
      "cell_type": "code",
      "metadata": {
        "id": "j0AhwDgRjGX3",
        "colab_type": "code",
        "colab": {
          "base_uri": "https://localhost:8080/",
          "height": 345
        },
        "outputId": "85c0353d-1f76-49bf-9f46-45caef13b792"
      },
      "source": [
        "import pickle\n",
        "\n",
        "# save the model to disk\n",
        "filename = 'finalized_model.sav'\n",
        "pickle.dump(SVMclassifier, open(filename, 'wb'))\n",
        "\n",
        "#load the dataset with new samples\n",
        "dataset = pd.read_csv('df_features_test.csv')\n",
        "dataset.info()\n",
        "dataset.isnull()\n",
        "print(dataset.shape)\n",
        "\n",
        "#split \n",
        "X_test = dataset.iloc[:, :-1]\n",
        "Y_test = dataset.iloc[:,-1]"
      ],
      "execution_count": 21,
      "outputs": [
        {
          "output_type": "stream",
          "text": [
            "<class 'pandas.core.frame.DataFrame'>\n",
            "RangeIndex: 754 entries, 0 to 753\n",
            "Data columns (total 10 columns):\n",
            " #   Column  Non-Null Count  Dtype \n",
            "---  ------  --------------  ----- \n",
            " 0   EVENT   754 non-null    int64 \n",
            " 1   FAC     754 non-null    int64 \n",
            " 2   GPE     754 non-null    int64 \n",
            " 3   LOC     754 non-null    int64 \n",
            " 4   NORP    754 non-null    int64 \n",
            " 5   ORG     754 non-null    int64 \n",
            " 6   PERSON  754 non-null    int64 \n",
            " 7   OTHER   754 non-null    int64 \n",
            " 8   SENT    754 non-null    int64 \n",
            " 9   CLASS   754 non-null    object\n",
            "dtypes: int64(9), object(1)\n",
            "memory usage: 59.0+ KB\n",
            "(754, 10)\n"
          ],
          "name": "stdout"
        }
      ]
    },
    {
      "cell_type": "code",
      "metadata": {
        "id": "opVPCXxXoN_A",
        "colab_type": "code",
        "colab": {
          "base_uri": "https://localhost:8080/",
          "height": 35
        },
        "outputId": "35e0aac7-a982-4b54-f218-a601ed742c33"
      },
      "source": [
        "# load and use the proposed model from disk\n",
        "loaded_model = pickle.load(open(filename, 'rb'))\n",
        "result = loaded_model.score(X_test, Y_test)\n",
        "print(result)"
      ],
      "execution_count": 24,
      "outputs": [
        {
          "output_type": "stream",
          "text": [
            "0.4960212201591512\n"
          ],
          "name": "stdout"
        }
      ]
    },
    {
      "cell_type": "code",
      "metadata": {
        "id": "xCVF547ayh8Q",
        "colab_type": "code",
        "colab": {
          "base_uri": "https://localhost:8080/",
          "height": 35
        },
        "outputId": "87169a65-049a-4573-e718-196db642d373"
      },
      "source": [
        "#MLP classifier\n",
        "from sklearn.neural_network import MLPClassifier\n",
        "from sklearn.model_selection import cross_val_score\n",
        "\n",
        "def model_tester(inputs, target):\n",
        "  clf = MLPClassifier(hidden_layer_sizes=(5,), random_state=0, max_iter=10000)\n",
        "  scores = cross_val_score(clf, inputs, target, cv=10)\n",
        "  print(\"Score do classificador: %.2f\" % (scores.mean()*100))\n",
        "\n",
        "#Score\n",
        "model_tester(X, Y)"
      ],
      "execution_count": 10,
      "outputs": [
        {
          "output_type": "stream",
          "text": [
            "Score do classificador: 97.71\n"
          ],
          "name": "stdout"
        }
      ]
    },
    {
      "cell_type": "code",
      "metadata": {
        "id": "gZ5ZeVkwkYzx",
        "colab_type": "code",
        "colab": {}
      },
      "source": [
        ""
      ],
      "execution_count": 0,
      "outputs": []
    }
  ]
}