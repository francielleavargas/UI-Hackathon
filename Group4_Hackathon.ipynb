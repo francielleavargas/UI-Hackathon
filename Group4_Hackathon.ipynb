{
  "nbformat": 4,
  "nbformat_minor": 0,
  "metadata": {
    "colab": {
      "name": "Group4_Hackathon.ipynb",
      "provenance": []
    },
    "kernelspec": {
      "name": "python3",
      "display_name": "Python 3"
    }
  },
  "cells": [
    {
      "cell_type": "code",
      "metadata": {
        "id": "kb0GMdiDV95I",
        "colab_type": "code",
        "colab": {
          "base_uri": "https://localhost:8080/",
          "height": 345
        },
        "outputId": "59559550-c3e1-47c8-a0f0-e975a7e6c89d"
      },
      "source": [
        "import pandas as pd\n",
        "import random\n",
        "from sklearn import model_selection\n",
        "from sklearn.metrics import classification_report\n",
        "from sklearn.metrics import confusion_matrix\n",
        "from sklearn.metrics import accuracy_score\n",
        "from sklearn.linear_model import LogisticRegression\n",
        "from sklearn.tree import DecisionTreeClassifier\n",
        "from sklearn.neighbors import KNeighborsClassifier\n",
        "from sklearn.discriminant_analysis import LinearDiscriminantAnalysis\n",
        "from sklearn.naive_bayes import GaussianNB\n",
        "from sklearn.linear_model import Perceptron\n",
        "from sklearn.svm import SVC\n",
        "\n",
        "# Loading dataset\n",
        "dataset = pd.read_csv('df_features.csv')\n",
        "\n",
        "#Show the dataset information \n",
        "dataset.info()\n",
        "dataset.isnull()\n",
        "print(dataset.shape)\n"
      ],
      "execution_count": 38,
      "outputs": [
        {
          "output_type": "stream",
          "text": [
            "<class 'pandas.core.frame.DataFrame'>\n",
            "RangeIndex: 872 entries, 0 to 871\n",
            "Data columns (total 10 columns):\n",
            " #   Column  Non-Null Count  Dtype \n",
            "---  ------  --------------  ----- \n",
            " 0   EVENT   872 non-null    int64 \n",
            " 1   FAC     872 non-null    int64 \n",
            " 2   GPE     872 non-null    int64 \n",
            " 3   LOC     872 non-null    int64 \n",
            " 4   NORP    872 non-null    int64 \n",
            " 5   ORG     872 non-null    int64 \n",
            " 6   PERSON  872 non-null    int64 \n",
            " 7   OTHER   872 non-null    int64 \n",
            " 8   SENT    872 non-null    int64 \n",
            " 9   CLASS   872 non-null    object\n",
            "dtypes: int64(9), object(1)\n",
            "memory usage: 68.2+ KB\n",
            "(872, 10)\n"
          ],
          "name": "stdout"
        }
      ]
    },
    {
      "cell_type": "code",
      "metadata": {
        "id": "_JKuFyuBXHeG",
        "colab_type": "code",
        "colab": {
          "base_uri": "https://localhost:8080/",
          "height": 126
        },
        "outputId": "e90bf49b-d086-428d-bb50-41445bb90080"
      },
      "source": [
        "print(dataset.head())\n"
      ],
      "execution_count": 2,
      "outputs": [
        {
          "output_type": "stream",
          "text": [
            "   EVENT  FAC  GPE  LOC  NORP  ORG  PERSON  OTHER  SENT CLASS\n",
            "0      0    0    0    0     1    1       1      0     3   NON\n",
            "1      0    0    0    0     0    0       0      0     3   NON\n",
            "2      0    0    1    0     2    0       0      0     3   NON\n",
            "3      0    0    0    0     3    0       0      2     3   NON\n",
            "4      0    0    0    0     2    0       0      0     3   NON\n"
          ],
          "name": "stdout"
        }
      ]
    },
    {
      "cell_type": "code",
      "metadata": {
        "id": "ZaGZhjBAXK6b",
        "colab_type": "code",
        "colab": {
          "base_uri": "https://localhost:8080/",
          "height": 217
        },
        "outputId": "7d72f84a-0525-41f2-f2dd-0d8a5725f3f2"
      },
      "source": [
        "print(dataset.describe())"
      ],
      "execution_count": 3,
      "outputs": [
        {
          "output_type": "stream",
          "text": [
            "            EVENT         FAC         GPE  ...      PERSON       OTHER        SENT\n",
            "count  872.000000  872.000000  872.000000  ...  872.000000  872.000000  872.000000\n",
            "mean     0.005734    0.012615    0.338303  ...    0.446101    0.491972    2.243119\n",
            "std      0.075549    0.139135    0.750966  ...    0.878018    0.947499    0.892923\n",
            "min      0.000000    0.000000    0.000000  ...    0.000000    0.000000    1.000000\n",
            "25%      0.000000    0.000000    0.000000  ...    0.000000    0.000000    1.000000\n",
            "50%      0.000000    0.000000    0.000000  ...    0.000000    0.000000    2.000000\n",
            "75%      0.000000    0.000000    0.000000  ...    1.000000    1.000000    3.000000\n",
            "max      1.000000    3.000000    6.000000  ...    7.000000    7.000000    5.000000\n",
            "\n",
            "[8 rows x 9 columns]\n"
          ],
          "name": "stdout"
        }
      ]
    },
    {
      "cell_type": "code",
      "metadata": {
        "id": "ytiaiHNLXUR5",
        "colab_type": "code",
        "colab": {
          "base_uri": "https://localhost:8080/",
          "height": 526
        },
        "outputId": "d8ae4cbf-c9d8-4732-851a-a5245d04cae4"
      },
      "source": [
        "#Separating features and class\n",
        "X = dataset.iloc[:, :-1]\n",
        "Y = dataset.iloc[:,-1]\n",
        "print('---------------------------(features)-------------------------------')\n",
        "print(X)\n",
        "print('---------------------------(class)----------------------------------')\n",
        "print(Y)"
      ],
      "execution_count": 4,
      "outputs": [
        {
          "output_type": "stream",
          "text": [
            "---------------------------(features)-------------------------------\n",
            "     EVENT  FAC  GPE  LOC  NORP  ORG  PERSON  OTHER  SENT\n",
            "0        0    0    0    0     1    1       1      0     3\n",
            "1        0    0    0    0     0    0       0      0     3\n",
            "2        0    0    1    0     2    0       0      0     3\n",
            "3        0    0    0    0     3    0       0      2     3\n",
            "4        0    0    0    0     2    0       0      0     3\n",
            "..     ...  ...  ...  ...   ...  ...     ...    ...   ...\n",
            "867      0    0    3    0     0    0       0      0     1\n",
            "868      0    0    0    0     0    0       0      0     2\n",
            "869      0    0    0    0     0    0       0      0     2\n",
            "870      0    0    0    0     0    0       0      0     2\n",
            "871      1    0    3    0     1    1       0      3     1\n",
            "\n",
            "[872 rows x 9 columns]\n",
            "---------------------------(class)----------------------------------\n",
            "0       NON\n",
            "1       NON\n",
            "2       NON\n",
            "3       NON\n",
            "4       NON\n",
            "       ... \n",
            "867    ANTI\n",
            "868    ANTI\n",
            "869    ANTI\n",
            "870    ANTI\n",
            "871    ANTI\n",
            "Name: CLASS, Length: 872, dtype: object\n"
          ],
          "name": "stdout"
        }
      ]
    },
    {
      "cell_type": "code",
      "metadata": {
        "id": "SV_2klrkX_MA",
        "colab_type": "code",
        "colab": {
          "base_uri": "https://localhost:8080/",
          "height": 126
        },
        "outputId": "70cc14fa-12b9-4189-ab5a-3212bd2af296"
      },
      "source": [
        "#Separating test and training data\n",
        "validation_size = 0.10\n",
        "seed = 7\n",
        "X_train, X_validation, Y_train, Y_validation = model_selection.train_test_split(X, Y, test_size=validation_size, random_state=seed)\n",
        "scoring = 'accuracy'\n",
        "\n",
        "\n",
        "models = []\n",
        "models.append(('LR', LogisticRegression()))\n",
        "models.append(('LDA', LinearDiscriminantAnalysis()))\n",
        "models.append(('KNN', KNeighborsClassifier()))\n",
        "models.append(('CART', DecisionTreeClassifier()))\n",
        "models.append(('NB', GaussianNB()))\n",
        "models.append(('SVM', SVC()))\n",
        "\n",
        "#Cross-validation\n",
        "results = []\n",
        "names = []\n",
        "for name, model in models:\n",
        "\tkfold = model_selection.KFold(n_splits=10, random_state=None)\n",
        "\tcv_results = model_selection.cross_val_score(model, X_train, Y_train, cv=kfold, scoring=scoring)\n",
        "\tresults.append(cv_results)\n",
        "\tnames.append(name)\n",
        "\tmsg = \"%s: %f (%f)\" % (name, cv_results.mean(), cv_results.std())\n",
        "\tprint(msg)"
      ],
      "execution_count": 6,
      "outputs": [
        {
          "output_type": "stream",
          "text": [
            "LR: 0.978302 (0.018088)\n",
            "LDA: 0.975738 (0.021733)\n",
            "KNN: 0.973207 (0.019325)\n",
            "CART: 0.974505 (0.022781)\n",
            "NB: 0.942486 (0.072826)\n",
            "SVM: 0.978302 (0.016220)\n"
          ],
          "name": "stdout"
        }
      ]
    },
    {
      "cell_type": "code",
      "metadata": {
        "id": "aDVtZ1EZCXqd",
        "colab_type": "code",
        "colab": {
          "base_uri": "https://localhost:8080/",
          "height": 35
        },
        "outputId": "583a96dd-befb-4931-d4b9-64d69140fe0e"
      },
      "source": [
        "#MLP classifier\n",
        "from sklearn.neural_network import MLPClassifier\n",
        "from sklearn.model_selection import cross_val_score\n",
        "\n",
        "def model_tester(inputs, target):\n",
        "  clf = MLPClassifier(hidden_layer_sizes=(5,), random_state=0, max_iter=10000)\n",
        "  scores = cross_val_score(clf, inputs, target, cv=10)\n",
        "  print(\"Score do classificador: %.2f\" % (scores.mean()*100))\n",
        "\n",
        "#Score\n",
        "model_tester(X, Y)"
      ],
      "execution_count": 32,
      "outputs": [
        {
          "output_type": "stream",
          "text": [
            "Score do classificador: 97.71\n"
          ],
          "name": "stdout"
        }
      ]
    },
    {
      "cell_type": "code",
      "metadata": {
        "id": "OV9iFIAYZmaf",
        "colab_type": "code",
        "colab": {
          "base_uri": "https://localhost:8080/",
          "height": 199
        },
        "outputId": "dde01ce9-a351-41fe-bc7b-9e500a5a13ef"
      },
      "source": [
        "#SVM classifier\n",
        "SVMclassifier = SVC()\n",
        "SVMclassifier.fit(X_train, Y_train)\n",
        "predictions = SVMclassifier.predict(X_validation)\n",
        "\n",
        "#Scores\n",
        "print(\"Score do classificador: %.2f\" % accuracy_score(Y_validation, predictions))\n",
        "print(classification_report(Y_validation, predictions))"
      ],
      "execution_count": 33,
      "outputs": [
        {
          "output_type": "stream",
          "text": [
            "Score do classificador: 0.99\n",
            "              precision    recall  f1-score   support\n",
            "\n",
            "        ANTI       0.98      1.00      0.99        44\n",
            "         NON       1.00      0.98      0.99        44\n",
            "\n",
            "    accuracy                           0.99        88\n",
            "   macro avg       0.99      0.99      0.99        88\n",
            "weighted avg       0.99      0.99      0.99        88\n",
            "\n"
          ],
          "name": "stdout"
        }
      ]
    },
    {
      "cell_type": "code",
      "metadata": {
        "id": "2Z4OM2zhAUdh",
        "colab_type": "code",
        "colab": {
          "base_uri": "https://localhost:8080/",
          "height": 435
        },
        "outputId": "9f5113c1-884b-476b-ea77-d09dba567e2d"
      },
      "source": [
        "#upload dataset with unseen samples\n",
        "df_test = pd.read_csv('df_test.csv')\n",
        "df_test.info()\n",
        "print(df_test.head())\n",
        "print(df_test.shape)"
      ],
      "execution_count": 34,
      "outputs": [
        {
          "output_type": "stream",
          "text": [
            "<class 'pandas.core.frame.DataFrame'>\n",
            "RangeIndex: 116 entries, 0 to 115\n",
            "Data columns (total 9 columns):\n",
            " #   Column  Non-Null Count  Dtype\n",
            "---  ------  --------------  -----\n",
            " 0   EVENT   116 non-null    int64\n",
            " 1   FAC     116 non-null    int64\n",
            " 2   GPE     116 non-null    int64\n",
            " 3   LOC     116 non-null    int64\n",
            " 4   NORP    116 non-null    int64\n",
            " 5   ORG     116 non-null    int64\n",
            " 6   PERSON  116 non-null    int64\n",
            " 7   OTHER   116 non-null    int64\n",
            " 8   SENT    116 non-null    int64\n",
            "dtypes: int64(9)\n",
            "memory usage: 8.3 KB\n",
            "   EVENT  FAC  GPE  LOC  NORP  ORG  PERSON  OTHER  SENT\n",
            "0      0    0    0    0     0    1       2      0     3\n",
            "1      0    0    0    0     0    1       0      0     3\n",
            "2      0    0    1    0     0    0       0      0     3\n",
            "3      0    0    0    0     1    0       0      0     4\n",
            "4      0    0    0    0     0    0       0      0     2\n",
            "(116, 9)\n"
          ],
          "name": "stdout"
        }
      ]
    },
    {
      "cell_type": "markdown",
      "metadata": {
        "id": "IpszDWKVAURF",
        "colab_type": "text"
      },
      "source": [
        ""
      ]
    },
    {
      "cell_type": "code",
      "metadata": {
        "id": "XVQxaPk9-ETf",
        "colab_type": "code",
        "colab": {
          "base_uri": "https://localhost:8080/",
          "height": 1000
        },
        "outputId": "3a936400-ff7d-46ed-a73e-dfb024f08342"
      },
      "source": [
        "#classify the unseen samples\n",
        "df_predited = SVMclassifier.predict(df_test)\n",
        "for add, i in enumerate(df_predited):\n",
        "\tprint(add, i)"
      ],
      "execution_count": 35,
      "outputs": [
        {
          "output_type": "stream",
          "text": [
            "0 NON\n",
            "1 NON\n",
            "2 NON\n",
            "3 NON\n",
            "4 ANTI\n",
            "5 ANTI\n",
            "6 NON\n",
            "7 ANTI\n",
            "8 NON\n",
            "9 NON\n",
            "10 NON\n",
            "11 NON\n",
            "12 NON\n",
            "13 NON\n",
            "14 NON\n",
            "15 ANTI\n",
            "16 NON\n",
            "17 NON\n",
            "18 NON\n",
            "19 NON\n",
            "20 NON\n",
            "21 NON\n",
            "22 ANTI\n",
            "23 NON\n",
            "24 NON\n",
            "25 NON\n",
            "26 ANTI\n",
            "27 NON\n",
            "28 NON\n",
            "29 ANTI\n",
            "30 NON\n",
            "31 ANTI\n",
            "32 ANTI\n",
            "33 NON\n",
            "34 NON\n",
            "35 NON\n",
            "36 NON\n",
            "37 NON\n",
            "38 NON\n",
            "39 ANTI\n",
            "40 NON\n",
            "41 NON\n",
            "42 NON\n",
            "43 NON\n",
            "44 NON\n",
            "45 NON\n",
            "46 ANTI\n",
            "47 ANTI\n",
            "48 ANTI\n",
            "49 NON\n",
            "50 NON\n",
            "51 NON\n",
            "52 NON\n",
            "53 NON\n",
            "54 ANTI\n",
            "55 NON\n",
            "56 NON\n",
            "57 ANTI\n",
            "58 NON\n",
            "59 NON\n",
            "60 NON\n",
            "61 NON\n",
            "62 ANTI\n",
            "63 NON\n",
            "64 NON\n",
            "65 ANTI\n",
            "66 NON\n",
            "67 NON\n",
            "68 NON\n",
            "69 NON\n",
            "70 ANTI\n",
            "71 ANTI\n",
            "72 NON\n",
            "73 ANTI\n",
            "74 NON\n",
            "75 NON\n",
            "76 NON\n",
            "77 NON\n",
            "78 ANTI\n",
            "79 NON\n",
            "80 NON\n",
            "81 NON\n",
            "82 NON\n",
            "83 ANTI\n",
            "84 NON\n",
            "85 ANTI\n",
            "86 NON\n",
            "87 NON\n",
            "88 NON\n",
            "89 NON\n",
            "90 NON\n",
            "91 NON\n",
            "92 NON\n",
            "93 ANTI\n",
            "94 ANTI\n",
            "95 NON\n",
            "96 NON\n",
            "97 NON\n",
            "98 NON\n",
            "99 ANTI\n",
            "100 NON\n",
            "101 NON\n",
            "102 ANTI\n",
            "103 NON\n",
            "104 NON\n",
            "105 ANTI\n",
            "106 ANTI\n",
            "107 NON\n",
            "108 ANTI\n",
            "109 NON\n",
            "110 NON\n",
            "111 NON\n",
            "112 ANTI\n",
            "113 ANTI\n",
            "114 NON\n",
            "115 NON\n"
          ],
          "name": "stdout"
        }
      ]
    },
    {
      "cell_type": "code",
      "metadata": {
        "id": "opVPCXxXoN_A",
        "colab_type": "code",
        "colab": {
          "base_uri": "https://localhost:8080/",
          "height": 35
        },
        "outputId": "0f83492d-aaee-43f8-e7cf-400e6e73130e"
      },
      "source": [
        "# load and use the proposed model from disk\n",
        "result = SVMclassifier.score(df_test, df_predited)\n",
        "print(result)"
      ],
      "execution_count": 37,
      "outputs": [
        {
          "output_type": "stream",
          "text": [
            "1.0\n"
          ],
          "name": "stdout"
        }
      ]
    }
  ]
}